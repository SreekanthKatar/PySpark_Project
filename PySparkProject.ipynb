{
 "cells": [
  {
   "cell_type": "code",
   "execution_count": 1,
   "id": "0b277e9c",
   "metadata": {},
   "outputs": [],
   "source": [
    "from pyspark.sql import SparkSession\n",
    "\n",
    "import getpass\n",
    "\n",
    "username = getpass.getuser()\n",
    "\n",
    "spark = SparkSession. \\\n",
    "        builder. \\\n",
    "        config('spark.ui.port','0'). \\\n",
    "        config(\"spark.sql.warehouse.dir\", f\"/user/{username}/warehouse\"). \\\n",
    "        enableHiveSupport(). \\\n",
    "        master('yarn'). \\\n",
    "        getOrCreate()"
   ]
  },
  {
   "cell_type": "code",
   "execution_count": 2,
   "id": "9cd52666",
   "metadata": {},
   "outputs": [
    {
     "data": {
      "text/html": [
       "\n",
       "            <div>\n",
       "                <p><b>SparkSession - hive</b></p>\n",
       "                \n",
       "        <div>\n",
       "            <p><b>SparkContext</b></p>\n",
       "\n",
       "            <p><a href=\"http://g01.itversity.com:46857\">Spark UI</a></p>\n",
       "\n",
       "            <dl>\n",
       "              <dt>Version</dt>\n",
       "                <dd><code>v3.1.2</code></dd>\n",
       "              <dt>Master</dt>\n",
       "                <dd><code>yarn</code></dd>\n",
       "              <dt>AppName</dt>\n",
       "                <dd><code>pyspark-shell</code></dd>\n",
       "            </dl>\n",
       "        </div>\n",
       "        \n",
       "            </div>\n",
       "        "
      ],
      "text/plain": [
       "<pyspark.sql.session.SparkSession at 0x7f3a38fb9278>"
      ]
     },
     "execution_count": 2,
     "metadata": {},
     "output_type": "execute_result"
    }
   ],
   "source": [
    "spark"
   ]
  },
  {
   "cell_type": "code",
   "execution_count": 5,
   "id": "7217f562",
   "metadata": {},
   "outputs": [],
   "source": [
    "biller_df = spark.read \\\n",
    ".format(\"csv\") \\\n",
    ".option(\"inferSchema\",\"true\") \\\n",
    ".option(\"header\",\"true\") \\\n",
    ".load(\"/user/itv006473/project_datasets/Billingdetails.csv\")"
   ]
  },
  {
   "cell_type": "code",
   "execution_count": 25,
   "id": "815dcf87",
   "metadata": {},
   "outputs": [],
   "source": [
    "billing_df = biller_df.drop(\"_c12\", \"_c13\", \"_c14\")"
   ]
  },
  {
   "cell_type": "code",
   "execution_count": 26,
   "id": "f5a30dc0",
   "metadata": {},
   "outputs": [
    {
     "data": {
      "text/html": [
       "<table border='1'>\n",
       "<tr><th>Provider ID</th><th>HCPCS_Code</th><th>HCPCS_Description</th><th>HCPCS Drug Indicator</th><th>Place Of Service</th><th>Total Distinct Beneficiaries</th><th>Number of services</th><th>beneficiary per day</th><th>Average Submitted Charge Amount</th><th>Average Medicare Allowed Amount</th><th>Average Medicare Payment Amount</th><th>Average Medicare Standardized Payment</th></tr>\n",
       "<tr><td>1003000126</td><td>99213</td><td>Established patie...</td><td>N</td><td>O</td><td>116</td><td>191.0</td><td>191</td><td>125.0</td><td>107.5328796</td><td>83.9082199</td><td>70.37586387</td></tr>\n",
       "<tr><td>1003000126</td><td>99214</td><td>Established patie...</td><td>N</td><td>O</td><td>40</td><td>47.0</td><td>47</td><td>173.8297872</td><td>152.0759575</td><td>118.5706383</td><td>99.79148936</td></tr>\n",
       "<tr><td>1003000126</td><td>99217</td><td>Hospital observat...</td><td>N</td><td>F</td><td>38</td><td>39.0</td><td>39</td><td>257.6205128</td><td>75.89128205</td><td>61.06692308</td><td>56.98307692</td></tr>\n",
       "<tr><td>1003000126</td><td>99220</td><td>Hospital observat...</td><td>N</td><td>F</td><td>21</td><td>21.0</td><td>21</td><td>1192.656191</td><td>187.1461905</td><td>141.4428571</td><td>134.3785714</td></tr>\n",
       "<tr><td>1003000126</td><td>99222</td><td>Initial hospital ...</td><td>N</td><td>F</td><td>12</td><td>12.0</td><td>12</td><td>319.6666667</td><td>143.0291667</td><td>105.7008333</td><td>97.825</td></tr>\n",
       "<tr><td>1003000126</td><td>99223</td><td>Initial hospital ...</td><td>N</td><td>F</td><td>18</td><td>18.0</td><td>18</td><td>1093.820556</td><td>207.2833333</td><td>170.3888889</td><td>161.3822222</td></tr>\n",
       "<tr><td>1003000126</td><td>99226</td><td>Subsequent observ...</td><td>N</td><td>F</td><td>16</td><td>16.0</td><td>16</td><td>409.875</td><td>111.575</td><td>84.338125</td><td>75.94875</td></tr>\n",
       "<tr><td>1003000126</td><td>99231</td><td>Subsequent hospit...</td><td>N</td><td>F</td><td>17</td><td>29.0</td><td>29</td><td>84.75862069</td><td>38.94862069</td><td>31.25586207</td><td>30.09068966</td></tr>\n",
       "<tr><td>1003000126</td><td>99232</td><td>Subsequent hospit...</td><td>N</td><td>F</td><td>124</td><td>204.0</td><td>204</td><td>164.4509804</td><td>73.32588235</td><td>58.46210784</td><td>56.19504902</td></tr>\n",
       "<tr><td>1003000126</td><td>99233</td><td>Subsequent hospit...</td><td>N</td><td>F</td><td>206</td><td>336.0</td><td>336</td><td>286.8541667</td><td>106.5971726</td><td>84.87532738</td><td>80.37372024</td></tr>\n",
       "<tr><td>1003000126</td><td>99238</td><td>Hospital discharg...</td><td>N</td><td>F</td><td>20</td><td>23.0</td><td>23</td><td>187.7913044</td><td>74.29956522</td><td>59.60347826</td><td>56.62086957</td></tr>\n",
       "<tr><td>1003000126</td><td>99239</td><td>Hospital discharg...</td><td>N</td><td>F</td><td>183</td><td>196.0</td><td>196</td><td>261.5663265</td><td>108.1447449</td><td>86.78637755</td><td>83.14903061</td></tr>\n",
       "<tr><td>1003000126</td><td>99454</td><td>Remote monitoring...</td><td>N</td><td>O</td><td>163</td><td>1003.0</td><td>1003</td><td>90.0</td><td>79.0480658</td><td>63.30372881</td><td>49.42125623</td></tr>\n",
       "<tr><td>1003000126</td><td>99457</td><td>Remote physiologi...</td><td>N</td><td>O</td><td>164</td><td>1137.0</td><td>1137</td><td>75.0</td><td>59.8666051</td><td>48.00537379</td><td>39.91365875</td></tr>\n",
       "<tr><td>1003000126</td><td>99458</td><td>Remote physiologi...</td><td>N</td><td>O</td><td>60</td><td>406.0</td><td>406</td><td>80.0</td><td>47.69</td><td>38.27</td><td>32.29</td></tr>\n",
       "<tr><td>1003000134</td><td>88304</td><td>Pathology examina...</td><td>N</td><td>F</td><td>167</td><td>173.0</td><td>169</td><td>115.0</td><td>12.1349133</td><td>8.815433526</td><td>8.181965318</td></tr>\n",
       "<tr><td>1003000134</td><td>88305</td><td>Pathology examina...</td><td>N</td><td>F</td><td>3106</td><td>5291.0</td><td>3928</td><td>170.0</td><td>39.10937063</td><td>28.57956719</td><td>26.89251559</td></tr>\n",
       "<tr><td>1003000134</td><td>88312</td><td>Special stained s...</td><td>N</td><td>F</td><td>248</td><td>378.0</td><td>253</td><td>88.0</td><td>27.97640212</td><td>21.75428571</td><td>20.42349206</td></tr>\n",
       "<tr><td>1003000134</td><td>88313</td><td>Special stained s...</td><td>N</td><td>F</td><td>84</td><td>155.0</td><td>84</td><td>68.0</td><td>12.88987097</td><td>10.27748387</td><td>9.516064516</td></tr>\n",
       "<tr><td>1003000134</td><td>88321</td><td>Surgical patholog...</td><td>N</td><td>F</td><td>13</td><td>13.0</td><td>13</td><td>278.0</td><td>90.21846154</td><td>66.87692308</td><td>61.35692308</td></tr>\n",
       "</table>\n",
       "only showing top 20 rows\n"
      ],
      "text/plain": [
       "+-----------+----------+--------------------+--------------------+----------------+----------------------------+------------------+-------------------+-------------------------------+-------------------------------+-------------------------------+-------------------------------------+\n",
       "|Provider ID|HCPCS_Code|   HCPCS_Description|HCPCS Drug Indicator|Place Of Service|Total Distinct Beneficiaries|Number of services|beneficiary per day|Average Submitted Charge Amount|Average Medicare Allowed Amount|Average Medicare Payment Amount|Average Medicare Standardized Payment|\n",
       "+-----------+----------+--------------------+--------------------+----------------+----------------------------+------------------+-------------------+-------------------------------+-------------------------------+-------------------------------+-------------------------------------+\n",
       "| 1003000126|     99213|Established patie...|                   N|               O|                         116|             191.0|                191|                          125.0|                    107.5328796|                     83.9082199|                          70.37586387|\n",
       "| 1003000126|     99214|Established patie...|                   N|               O|                          40|              47.0|                 47|                    173.8297872|                    152.0759575|                    118.5706383|                          99.79148936|\n",
       "| 1003000126|     99217|Hospital observat...|                   N|               F|                          38|              39.0|                 39|                    257.6205128|                    75.89128205|                    61.06692308|                          56.98307692|\n",
       "| 1003000126|     99220|Hospital observat...|                   N|               F|                          21|              21.0|                 21|                    1192.656191|                    187.1461905|                    141.4428571|                          134.3785714|\n",
       "| 1003000126|     99222|Initial hospital ...|                   N|               F|                          12|              12.0|                 12|                    319.6666667|                    143.0291667|                    105.7008333|                               97.825|\n",
       "| 1003000126|     99223|Initial hospital ...|                   N|               F|                          18|              18.0|                 18|                    1093.820556|                    207.2833333|                    170.3888889|                          161.3822222|\n",
       "| 1003000126|     99226|Subsequent observ...|                   N|               F|                          16|              16.0|                 16|                        409.875|                        111.575|                      84.338125|                             75.94875|\n",
       "| 1003000126|     99231|Subsequent hospit...|                   N|               F|                          17|              29.0|                 29|                    84.75862069|                    38.94862069|                    31.25586207|                          30.09068966|\n",
       "| 1003000126|     99232|Subsequent hospit...|                   N|               F|                         124|             204.0|                204|                    164.4509804|                    73.32588235|                    58.46210784|                          56.19504902|\n",
       "| 1003000126|     99233|Subsequent hospit...|                   N|               F|                         206|             336.0|                336|                    286.8541667|                    106.5971726|                    84.87532738|                          80.37372024|\n",
       "| 1003000126|     99238|Hospital discharg...|                   N|               F|                          20|              23.0|                 23|                    187.7913044|                    74.29956522|                    59.60347826|                          56.62086957|\n",
       "| 1003000126|     99239|Hospital discharg...|                   N|               F|                         183|             196.0|                196|                    261.5663265|                    108.1447449|                    86.78637755|                          83.14903061|\n",
       "| 1003000126|     99454|Remote monitoring...|                   N|               O|                         163|            1003.0|               1003|                           90.0|                     79.0480658|                    63.30372881|                          49.42125623|\n",
       "| 1003000126|     99457|Remote physiologi...|                   N|               O|                         164|            1137.0|               1137|                           75.0|                     59.8666051|                    48.00537379|                          39.91365875|\n",
       "| 1003000126|     99458|Remote physiologi...|                   N|               O|                          60|             406.0|                406|                           80.0|                          47.69|                          38.27|                                32.29|\n",
       "| 1003000134|     88304|Pathology examina...|                   N|               F|                         167|             173.0|                169|                          115.0|                     12.1349133|                    8.815433526|                          8.181965318|\n",
       "| 1003000134|     88305|Pathology examina...|                   N|               F|                        3106|            5291.0|               3928|                          170.0|                    39.10937063|                    28.57956719|                          26.89251559|\n",
       "| 1003000134|     88312|Special stained s...|                   N|               F|                         248|             378.0|                253|                           88.0|                    27.97640212|                    21.75428571|                          20.42349206|\n",
       "| 1003000134|     88313|Special stained s...|                   N|               F|                          84|             155.0|                 84|                           68.0|                    12.88987097|                    10.27748387|                          9.516064516|\n",
       "| 1003000134|     88321|Surgical patholog...|                   N|               F|                          13|              13.0|                 13|                          278.0|                    90.21846154|                    66.87692308|                          61.35692308|\n",
       "+-----------+----------+--------------------+--------------------+----------------+----------------------------+------------------+-------------------+-------------------------------+-------------------------------+-------------------------------+-------------------------------------+\n",
       "only showing top 20 rows"
      ]
     },
     "metadata": {},
     "output_type": "display_data"
    }
   ],
   "source": [
    "display(billing_df)"
   ]
  },
  {
   "cell_type": "code",
   "execution_count": 27,
   "id": "5e262f8a",
   "metadata": {},
   "outputs": [
    {
     "name": "stdout",
     "output_type": "stream",
     "text": [
      "root\n",
      " |-- Provider ID: integer (nullable = true)\n",
      " |-- HCPCS_Code: string (nullable = true)\n",
      " |-- HCPCS_Description: string (nullable = true)\n",
      " |-- HCPCS Drug Indicator: string (nullable = true)\n",
      " |-- Place Of Service: string (nullable = true)\n",
      " |-- Total Distinct Beneficiaries: integer (nullable = true)\n",
      " |-- Number of services: double (nullable = true)\n",
      " |-- beneficiary per day: integer (nullable = true)\n",
      " |-- Average Submitted Charge Amount: double (nullable = true)\n",
      " |-- Average Medicare Allowed Amount: double (nullable = true)\n",
      " |-- Average Medicare Payment Amount: double (nullable = true)\n",
      " |-- Average Medicare Standardized Payment: double (nullable = true)\n",
      "\n"
     ]
    }
   ],
   "source": [
    "billing_df.printSchema()"
   ]
  },
  {
   "cell_type": "code",
   "execution_count": 30,
   "id": "3728fadb",
   "metadata": {},
   "outputs": [],
   "source": [
    "medicare_initial_df = spark.read \\\n",
    ".format(\"csv\") \\\n",
    ".option(\"header\",\"true\") \\\n",
    ".option(\"inferSchema\",\"true\") \\\n",
    ".load(\"/user/itv006473/project_datasets/Medicareservice.csv\")"
   ]
  },
  {
   "cell_type": "code",
   "execution_count": 31,
   "id": "64b13d38",
   "metadata": {},
   "outputs": [
    {
     "data": {
      "text/html": [
       "<table border='1'>\n",
       "<tr><th>Provider ID</th><th>Provide Type</th><th>Medicare Participation</th><th>_c3</th><th>_c4</th></tr>\n",
       "<tr><td>1003000126</td><td>Internal Medicine</td><td>Y</td><td>null</td><td>null</td></tr>\n",
       "<tr><td>1003000126</td><td>Internal Medicine</td><td>Y</td><td>null</td><td>null</td></tr>\n",
       "<tr><td>1003000126</td><td>Internal Medicine</td><td>Y</td><td>null</td><td>null</td></tr>\n",
       "<tr><td>1003000126</td><td>Internal Medicine</td><td>Y</td><td>null</td><td>null</td></tr>\n",
       "<tr><td>1003000126</td><td>Internal Medicine</td><td>Y</td><td>null</td><td>null</td></tr>\n",
       "<tr><td>1003000126</td><td>Internal Medicine</td><td>Y</td><td>null</td><td>null</td></tr>\n",
       "<tr><td>1003000126</td><td>Internal Medicine</td><td>Y</td><td>null</td><td>null</td></tr>\n",
       "<tr><td>1003000126</td><td>Internal Medicine</td><td>Y</td><td>null</td><td>null</td></tr>\n",
       "<tr><td>1003000126</td><td>Internal Medicine</td><td>Y</td><td>null</td><td>null</td></tr>\n",
       "<tr><td>1003000126</td><td>Internal Medicine</td><td>Y</td><td>null</td><td>null</td></tr>\n",
       "<tr><td>1003000126</td><td>Internal Medicine</td><td>Y</td><td>null</td><td>null</td></tr>\n",
       "<tr><td>1003000126</td><td>Internal Medicine</td><td>Y</td><td>null</td><td>null</td></tr>\n",
       "<tr><td>1003000126</td><td>Internal Medicine</td><td>Y</td><td>null</td><td>null</td></tr>\n",
       "<tr><td>1003000126</td><td>Internal Medicine</td><td>Y</td><td>null</td><td>null</td></tr>\n",
       "<tr><td>1003000126</td><td>Internal Medicine</td><td>Y</td><td>null</td><td>null</td></tr>\n",
       "<tr><td>1003000134</td><td>Pathology</td><td>Y</td><td>null</td><td>null</td></tr>\n",
       "<tr><td>1003000134</td><td>Pathology</td><td>Y</td><td>null</td><td>null</td></tr>\n",
       "<tr><td>1003000134</td><td>Pathology</td><td>Y</td><td>null</td><td>null</td></tr>\n",
       "<tr><td>1003000134</td><td>Pathology</td><td>Y</td><td>null</td><td>null</td></tr>\n",
       "<tr><td>1003000134</td><td>Pathology</td><td>Y</td><td>null</td><td>null</td></tr>\n",
       "</table>\n",
       "only showing top 20 rows\n"
      ],
      "text/plain": [
       "+-----------+-----------------+----------------------+----+----+\n",
       "|Provider ID|     Provide Type|Medicare Participation| _c3| _c4|\n",
       "+-----------+-----------------+----------------------+----+----+\n",
       "| 1003000126|Internal Medicine|                     Y|null|null|\n",
       "| 1003000126|Internal Medicine|                     Y|null|null|\n",
       "| 1003000126|Internal Medicine|                     Y|null|null|\n",
       "| 1003000126|Internal Medicine|                     Y|null|null|\n",
       "| 1003000126|Internal Medicine|                     Y|null|null|\n",
       "| 1003000126|Internal Medicine|                     Y|null|null|\n",
       "| 1003000126|Internal Medicine|                     Y|null|null|\n",
       "| 1003000126|Internal Medicine|                     Y|null|null|\n",
       "| 1003000126|Internal Medicine|                     Y|null|null|\n",
       "| 1003000126|Internal Medicine|                     Y|null|null|\n",
       "| 1003000126|Internal Medicine|                     Y|null|null|\n",
       "| 1003000126|Internal Medicine|                     Y|null|null|\n",
       "| 1003000126|Internal Medicine|                     Y|null|null|\n",
       "| 1003000126|Internal Medicine|                     Y|null|null|\n",
       "| 1003000126|Internal Medicine|                     Y|null|null|\n",
       "| 1003000134|        Pathology|                     Y|null|null|\n",
       "| 1003000134|        Pathology|                     Y|null|null|\n",
       "| 1003000134|        Pathology|                     Y|null|null|\n",
       "| 1003000134|        Pathology|                     Y|null|null|\n",
       "| 1003000134|        Pathology|                     Y|null|null|\n",
       "+-----------+-----------------+----------------------+----+----+\n",
       "only showing top 20 rows"
      ]
     },
     "metadata": {},
     "output_type": "display_data"
    }
   ],
   "source": [
    "display(medicare_initial_df)"
   ]
  },
  {
   "cell_type": "code",
   "execution_count": 32,
   "id": "08bcbfcf",
   "metadata": {},
   "outputs": [],
   "source": [
    "medicare_df = medicare_initial_df.drop(\"_c3\",\"_c4\")"
   ]
  },
  {
   "cell_type": "code",
   "execution_count": 33,
   "id": "c5c6a9fc",
   "metadata": {},
   "outputs": [
    {
     "data": {
      "text/html": [
       "<table border='1'>\n",
       "<tr><th>Provider ID</th><th>Provide Type</th><th>Medicare Participation</th></tr>\n",
       "<tr><td>1003000126</td><td>Internal Medicine</td><td>Y</td></tr>\n",
       "<tr><td>1003000126</td><td>Internal Medicine</td><td>Y</td></tr>\n",
       "<tr><td>1003000126</td><td>Internal Medicine</td><td>Y</td></tr>\n",
       "<tr><td>1003000126</td><td>Internal Medicine</td><td>Y</td></tr>\n",
       "<tr><td>1003000126</td><td>Internal Medicine</td><td>Y</td></tr>\n",
       "<tr><td>1003000126</td><td>Internal Medicine</td><td>Y</td></tr>\n",
       "<tr><td>1003000126</td><td>Internal Medicine</td><td>Y</td></tr>\n",
       "<tr><td>1003000126</td><td>Internal Medicine</td><td>Y</td></tr>\n",
       "<tr><td>1003000126</td><td>Internal Medicine</td><td>Y</td></tr>\n",
       "<tr><td>1003000126</td><td>Internal Medicine</td><td>Y</td></tr>\n",
       "<tr><td>1003000126</td><td>Internal Medicine</td><td>Y</td></tr>\n",
       "<tr><td>1003000126</td><td>Internal Medicine</td><td>Y</td></tr>\n",
       "<tr><td>1003000126</td><td>Internal Medicine</td><td>Y</td></tr>\n",
       "<tr><td>1003000126</td><td>Internal Medicine</td><td>Y</td></tr>\n",
       "<tr><td>1003000126</td><td>Internal Medicine</td><td>Y</td></tr>\n",
       "<tr><td>1003000134</td><td>Pathology</td><td>Y</td></tr>\n",
       "<tr><td>1003000134</td><td>Pathology</td><td>Y</td></tr>\n",
       "<tr><td>1003000134</td><td>Pathology</td><td>Y</td></tr>\n",
       "<tr><td>1003000134</td><td>Pathology</td><td>Y</td></tr>\n",
       "<tr><td>1003000134</td><td>Pathology</td><td>Y</td></tr>\n",
       "</table>\n",
       "only showing top 20 rows\n"
      ],
      "text/plain": [
       "+-----------+-----------------+----------------------+\n",
       "|Provider ID|     Provide Type|Medicare Participation|\n",
       "+-----------+-----------------+----------------------+\n",
       "| 1003000126|Internal Medicine|                     Y|\n",
       "| 1003000126|Internal Medicine|                     Y|\n",
       "| 1003000126|Internal Medicine|                     Y|\n",
       "| 1003000126|Internal Medicine|                     Y|\n",
       "| 1003000126|Internal Medicine|                     Y|\n",
       "| 1003000126|Internal Medicine|                     Y|\n",
       "| 1003000126|Internal Medicine|                     Y|\n",
       "| 1003000126|Internal Medicine|                     Y|\n",
       "| 1003000126|Internal Medicine|                     Y|\n",
       "| 1003000126|Internal Medicine|                     Y|\n",
       "| 1003000126|Internal Medicine|                     Y|\n",
       "| 1003000126|Internal Medicine|                     Y|\n",
       "| 1003000126|Internal Medicine|                     Y|\n",
       "| 1003000126|Internal Medicine|                     Y|\n",
       "| 1003000126|Internal Medicine|                     Y|\n",
       "| 1003000134|        Pathology|                     Y|\n",
       "| 1003000134|        Pathology|                     Y|\n",
       "| 1003000134|        Pathology|                     Y|\n",
       "| 1003000134|        Pathology|                     Y|\n",
       "| 1003000134|        Pathology|                     Y|\n",
       "+-----------+-----------------+----------------------+\n",
       "only showing top 20 rows"
      ]
     },
     "metadata": {},
     "output_type": "display_data"
    }
   ],
   "source": [
    "display(medicare_df)"
   ]
  },
  {
   "cell_type": "code",
   "execution_count": 34,
   "id": "3926762c",
   "metadata": {},
   "outputs": [],
   "source": [
    "provider_initial_df = spark.read \\\n",
    ".format(\"csv\") \\\n",
    ".option(\"header\",\"true\") \\\n",
    ".option(\"inferSchema\",\"true\") \\\n",
    ".load(\"/user/itv006473/project_datasets/Providerdetails.csv\")"
   ]
  },
  {
   "cell_type": "code",
   "execution_count": 35,
   "id": "393f17ca",
   "metadata": {},
   "outputs": [
    {
     "data": {
      "text/html": [
       "<table border='1'>\n",
       "<tr><th>Provider ID</th><th>Provider First Name</th><th>Provider Initial</th><th>Provider Last Name/Organisation Name</th><th>Entity Type</th><th>Qualification/Credentials</th><th>Provider State Abbrivation</th><th>Gender</th><th>Provider Street Adress1</th><th>Provider Street Adress2</th><th>Provider City</th><th>FIPS Code</th><th>ZIP Code </th><th>Provider Country</th><th>RUCA Code of the Provider </th><th>RUCA Description</th><th>_c16</th><th>_c17</th><th>_c18</th></tr>\n",
       "<tr><td>1003000126</td><td>Ardalan</td><td>null</td><td>Enkeshafi</td><td>I</td><td>M.D.</td><td>MD</td><td>M</td><td>6410 Rockledge Dr...</td><td>null</td><td>Bethesda</td><td>24</td><td>20817</td><td>US</td><td>1.0</td><td>Metropolitan area...</td><td>null</td><td>null</td><td>null</td></tr>\n",
       "<tr><td>1003000126</td><td>Ardalan</td><td>null</td><td>Enkeshafi</td><td>I</td><td>M.D.</td><td>MD</td><td>M</td><td>6410 Rockledge Dr...</td><td>null</td><td>Bethesda</td><td>24</td><td>20817</td><td>US</td><td>1.0</td><td>Metropolitan area...</td><td>null</td><td>null</td><td>null</td></tr>\n",
       "<tr><td>1003000126</td><td>Ardalan</td><td>null</td><td>Enkeshafi</td><td>I</td><td>M.D.</td><td>MD</td><td>M</td><td>6410 Rockledge Dr...</td><td>null</td><td>Bethesda</td><td>24</td><td>20817</td><td>US</td><td>1.0</td><td>Metropolitan area...</td><td>null</td><td>null</td><td>null</td></tr>\n",
       "<tr><td>1003000126</td><td>Ardalan</td><td>null</td><td>Enkeshafi</td><td>I</td><td>M.D.</td><td>MD</td><td>M</td><td>6410 Rockledge Dr...</td><td>null</td><td>Bethesda</td><td>24</td><td>20817</td><td>US</td><td>1.0</td><td>Metropolitan area...</td><td>null</td><td>null</td><td>null</td></tr>\n",
       "<tr><td>1003000126</td><td>Ardalan</td><td>null</td><td>Enkeshafi</td><td>I</td><td>M.D.</td><td>MD</td><td>M</td><td>6410 Rockledge Dr...</td><td>null</td><td>Bethesda</td><td>24</td><td>20817</td><td>US</td><td>1.0</td><td>Metropolitan area...</td><td>null</td><td>null</td><td>null</td></tr>\n",
       "<tr><td>1003000126</td><td>Ardalan</td><td>null</td><td>Enkeshafi</td><td>I</td><td>M.D.</td><td>MD</td><td>M</td><td>6410 Rockledge Dr...</td><td>null</td><td>Bethesda</td><td>24</td><td>20817</td><td>US</td><td>1.0</td><td>Metropolitan area...</td><td>null</td><td>null</td><td>null</td></tr>\n",
       "<tr><td>1003000126</td><td>Ardalan</td><td>null</td><td>Enkeshafi</td><td>I</td><td>M.D.</td><td>MD</td><td>M</td><td>6410 Rockledge Dr...</td><td>null</td><td>Bethesda</td><td>24</td><td>20817</td><td>US</td><td>1.0</td><td>Metropolitan area...</td><td>null</td><td>null</td><td>null</td></tr>\n",
       "<tr><td>1003000126</td><td>Ardalan</td><td>null</td><td>Enkeshafi</td><td>I</td><td>M.D.</td><td>MD</td><td>M</td><td>6410 Rockledge Dr...</td><td>null</td><td>Bethesda</td><td>24</td><td>20817</td><td>US</td><td>1.0</td><td>Metropolitan area...</td><td>null</td><td>null</td><td>null</td></tr>\n",
       "<tr><td>1003000126</td><td>Ardalan</td><td>null</td><td>Enkeshafi</td><td>I</td><td>M.D.</td><td>MD</td><td>M</td><td>6410 Rockledge Dr...</td><td>null</td><td>Bethesda</td><td>24</td><td>20817</td><td>US</td><td>1.0</td><td>Metropolitan area...</td><td>null</td><td>null</td><td>null</td></tr>\n",
       "<tr><td>1003000126</td><td>Ardalan</td><td>null</td><td>Enkeshafi</td><td>I</td><td>M.D.</td><td>MD</td><td>M</td><td>6410 Rockledge Dr...</td><td>null</td><td>Bethesda</td><td>24</td><td>20817</td><td>US</td><td>1.0</td><td>Metropolitan area...</td><td>null</td><td>null</td><td>null</td></tr>\n",
       "<tr><td>1003000126</td><td>Ardalan</td><td>null</td><td>Enkeshafi</td><td>I</td><td>M.D.</td><td>MD</td><td>M</td><td>6410 Rockledge Dr...</td><td>null</td><td>Bethesda</td><td>24</td><td>20817</td><td>US</td><td>1.0</td><td>Metropolitan area...</td><td>null</td><td>null</td><td>null</td></tr>\n",
       "<tr><td>1003000126</td><td>Ardalan</td><td>null</td><td>Enkeshafi</td><td>I</td><td>M.D.</td><td>MD</td><td>M</td><td>6410 Rockledge Dr...</td><td>null</td><td>Bethesda</td><td>24</td><td>20817</td><td>US</td><td>1.0</td><td>Metropolitan area...</td><td>null</td><td>null</td><td>null</td></tr>\n",
       "<tr><td>1003000126</td><td>Ardalan</td><td>null</td><td>Enkeshafi</td><td>I</td><td>M.D.</td><td>MD</td><td>M</td><td>6410 Rockledge Dr...</td><td>null</td><td>Bethesda</td><td>24</td><td>20817</td><td>US</td><td>1.0</td><td>Metropolitan area...</td><td>null</td><td>null</td><td>null</td></tr>\n",
       "<tr><td>1003000126</td><td>Ardalan</td><td>null</td><td>Enkeshafi</td><td>I</td><td>M.D.</td><td>MD</td><td>M</td><td>6410 Rockledge Dr...</td><td>null</td><td>Bethesda</td><td>24</td><td>20817</td><td>US</td><td>1.0</td><td>Metropolitan area...</td><td>null</td><td>null</td><td>null</td></tr>\n",
       "<tr><td>1003000126</td><td>Ardalan</td><td>null</td><td>Enkeshafi</td><td>I</td><td>M.D.</td><td>MD</td><td>M</td><td>6410 Rockledge Dr...</td><td>null</td><td>Bethesda</td><td>24</td><td>20817</td><td>US</td><td>1.0</td><td>Metropolitan area...</td><td>null</td><td>null</td><td>null</td></tr>\n",
       "<tr><td>1003000134</td><td>Thomas</td><td>L</td><td>Cibull</td><td>I</td><td>M.D.</td><td>IL</td><td>M</td><td>2650 Ridge Ave</td><td>Evanston Hospital</td><td>Evanston</td><td>17</td><td>60201</td><td>US</td><td>1.0</td><td>Metropolitan area...</td><td>null</td><td>null</td><td>null</td></tr>\n",
       "<tr><td>1003000134</td><td>Thomas</td><td>L</td><td>Cibull</td><td>I</td><td>M.D.</td><td>IL</td><td>M</td><td>2650 Ridge Ave</td><td>Evanston Hospital</td><td>Evanston</td><td>17</td><td>60201</td><td>US</td><td>1.0</td><td>Metropolitan area...</td><td>null</td><td>null</td><td>null</td></tr>\n",
       "<tr><td>1003000134</td><td>Thomas</td><td>L</td><td>Cibull</td><td>I</td><td>M.D.</td><td>IL</td><td>M</td><td>2650 Ridge Ave</td><td>Evanston Hospital</td><td>Evanston</td><td>17</td><td>60201</td><td>US</td><td>1.0</td><td>Metropolitan area...</td><td>null</td><td>null</td><td>null</td></tr>\n",
       "<tr><td>1003000134</td><td>Thomas</td><td>L</td><td>Cibull</td><td>I</td><td>M.D.</td><td>IL</td><td>M</td><td>2650 Ridge Ave</td><td>Evanston Hospital</td><td>Evanston</td><td>17</td><td>60201</td><td>US</td><td>1.0</td><td>Metropolitan area...</td><td>null</td><td>null</td><td>null</td></tr>\n",
       "<tr><td>1003000134</td><td>Thomas</td><td>L</td><td>Cibull</td><td>I</td><td>M.D.</td><td>IL</td><td>M</td><td>2650 Ridge Ave</td><td>Evanston Hospital</td><td>Evanston</td><td>17</td><td>60201</td><td>US</td><td>1.0</td><td>Metropolitan area...</td><td>null</td><td>null</td><td>null</td></tr>\n",
       "</table>\n",
       "only showing top 20 rows\n"
      ],
      "text/plain": [
       "+-----------+-------------------+----------------+------------------------------------+-----------+-------------------------+--------------------------+------+-----------------------+-----------------------+-------------+---------+---------+----------------+--------------------------+--------------------+----+----+----+\n",
       "|Provider ID|Provider First Name|Provider Initial|Provider Last Name/Organisation Name|Entity Type|Qualification/Credentials|Provider State Abbrivation|Gender|Provider Street Adress1|Provider Street Adress2|Provider City|FIPS Code|ZIP Code |Provider Country|RUCA Code of the Provider |    RUCA Description|_c16|_c17|_c18|\n",
       "+-----------+-------------------+----------------+------------------------------------+-----------+-------------------------+--------------------------+------+-----------------------+-----------------------+-------------+---------+---------+----------------+--------------------------+--------------------+----+----+----+\n",
       "| 1003000126|            Ardalan|            null|                           Enkeshafi|          I|                     M.D.|                        MD|     M|   6410 Rockledge Dr...|                   null|     Bethesda|       24|    20817|              US|                       1.0|Metropolitan area...|null|null|null|\n",
       "| 1003000126|            Ardalan|            null|                           Enkeshafi|          I|                     M.D.|                        MD|     M|   6410 Rockledge Dr...|                   null|     Bethesda|       24|    20817|              US|                       1.0|Metropolitan area...|null|null|null|\n",
       "| 1003000126|            Ardalan|            null|                           Enkeshafi|          I|                     M.D.|                        MD|     M|   6410 Rockledge Dr...|                   null|     Bethesda|       24|    20817|              US|                       1.0|Metropolitan area...|null|null|null|\n",
       "| 1003000126|            Ardalan|            null|                           Enkeshafi|          I|                     M.D.|                        MD|     M|   6410 Rockledge Dr...|                   null|     Bethesda|       24|    20817|              US|                       1.0|Metropolitan area...|null|null|null|\n",
       "| 1003000126|            Ardalan|            null|                           Enkeshafi|          I|                     M.D.|                        MD|     M|   6410 Rockledge Dr...|                   null|     Bethesda|       24|    20817|              US|                       1.0|Metropolitan area...|null|null|null|\n",
       "| 1003000126|            Ardalan|            null|                           Enkeshafi|          I|                     M.D.|                        MD|     M|   6410 Rockledge Dr...|                   null|     Bethesda|       24|    20817|              US|                       1.0|Metropolitan area...|null|null|null|\n",
       "| 1003000126|            Ardalan|            null|                           Enkeshafi|          I|                     M.D.|                        MD|     M|   6410 Rockledge Dr...|                   null|     Bethesda|       24|    20817|              US|                       1.0|Metropolitan area...|null|null|null|\n",
       "| 1003000126|            Ardalan|            null|                           Enkeshafi|          I|                     M.D.|                        MD|     M|   6410 Rockledge Dr...|                   null|     Bethesda|       24|    20817|              US|                       1.0|Metropolitan area...|null|null|null|\n",
       "| 1003000126|            Ardalan|            null|                           Enkeshafi|          I|                     M.D.|                        MD|     M|   6410 Rockledge Dr...|                   null|     Bethesda|       24|    20817|              US|                       1.0|Metropolitan area...|null|null|null|\n",
       "| 1003000126|            Ardalan|            null|                           Enkeshafi|          I|                     M.D.|                        MD|     M|   6410 Rockledge Dr...|                   null|     Bethesda|       24|    20817|              US|                       1.0|Metropolitan area...|null|null|null|\n",
       "| 1003000126|            Ardalan|            null|                           Enkeshafi|          I|                     M.D.|                        MD|     M|   6410 Rockledge Dr...|                   null|     Bethesda|       24|    20817|              US|                       1.0|Metropolitan area...|null|null|null|\n",
       "| 1003000126|            Ardalan|            null|                           Enkeshafi|          I|                     M.D.|                        MD|     M|   6410 Rockledge Dr...|                   null|     Bethesda|       24|    20817|              US|                       1.0|Metropolitan area...|null|null|null|\n",
       "| 1003000126|            Ardalan|            null|                           Enkeshafi|          I|                     M.D.|                        MD|     M|   6410 Rockledge Dr...|                   null|     Bethesda|       24|    20817|              US|                       1.0|Metropolitan area...|null|null|null|\n",
       "| 1003000126|            Ardalan|            null|                           Enkeshafi|          I|                     M.D.|                        MD|     M|   6410 Rockledge Dr...|                   null|     Bethesda|       24|    20817|              US|                       1.0|Metropolitan area...|null|null|null|\n",
       "| 1003000126|            Ardalan|            null|                           Enkeshafi|          I|                     M.D.|                        MD|     M|   6410 Rockledge Dr...|                   null|     Bethesda|       24|    20817|              US|                       1.0|Metropolitan area...|null|null|null|\n",
       "| 1003000134|             Thomas|               L|                              Cibull|          I|                     M.D.|                        IL|     M|         2650 Ridge Ave|      Evanston Hospital|     Evanston|       17|    60201|              US|                       1.0|Metropolitan area...|null|null|null|\n",
       "| 1003000134|             Thomas|               L|                              Cibull|          I|                     M.D.|                        IL|     M|         2650 Ridge Ave|      Evanston Hospital|     Evanston|       17|    60201|              US|                       1.0|Metropolitan area...|null|null|null|\n",
       "| 1003000134|             Thomas|               L|                              Cibull|          I|                     M.D.|                        IL|     M|         2650 Ridge Ave|      Evanston Hospital|     Evanston|       17|    60201|              US|                       1.0|Metropolitan area...|null|null|null|\n",
       "| 1003000134|             Thomas|               L|                              Cibull|          I|                     M.D.|                        IL|     M|         2650 Ridge Ave|      Evanston Hospital|     Evanston|       17|    60201|              US|                       1.0|Metropolitan area...|null|null|null|\n",
       "| 1003000134|             Thomas|               L|                              Cibull|          I|                     M.D.|                        IL|     M|         2650 Ridge Ave|      Evanston Hospital|     Evanston|       17|    60201|              US|                       1.0|Metropolitan area...|null|null|null|\n",
       "+-----------+-------------------+----------------+------------------------------------+-----------+-------------------------+--------------------------+------+-----------------------+-----------------------+-------------+---------+---------+----------------+--------------------------+--------------------+----+----+----+\n",
       "only showing top 20 rows"
      ]
     },
     "metadata": {},
     "output_type": "display_data"
    }
   ],
   "source": [
    "display(provider_initial_df)"
   ]
  },
  {
   "cell_type": "code",
   "execution_count": 36,
   "id": "a886ff9d",
   "metadata": {},
   "outputs": [],
   "source": [
    "provider_df = provider_initial_df.drop(\"_c16\",\"_c17\",\"_c18\")"
   ]
  },
  {
   "cell_type": "code",
   "execution_count": 37,
   "id": "34916cc3",
   "metadata": {},
   "outputs": [
    {
     "data": {
      "text/html": [
       "<table border='1'>\n",
       "<tr><th>Provider ID</th><th>Provider First Name</th><th>Provider Initial</th><th>Provider Last Name/Organisation Name</th><th>Entity Type</th><th>Qualification/Credentials</th><th>Provider State Abbrivation</th><th>Gender</th><th>Provider Street Adress1</th><th>Provider Street Adress2</th><th>Provider City</th><th>FIPS Code</th><th>ZIP Code </th><th>Provider Country</th><th>RUCA Code of the Provider </th><th>RUCA Description</th></tr>\n",
       "<tr><td>1003000126</td><td>Ardalan</td><td>null</td><td>Enkeshafi</td><td>I</td><td>M.D.</td><td>MD</td><td>M</td><td>6410 Rockledge Dr...</td><td>null</td><td>Bethesda</td><td>24</td><td>20817</td><td>US</td><td>1.0</td><td>Metropolitan area...</td></tr>\n",
       "<tr><td>1003000126</td><td>Ardalan</td><td>null</td><td>Enkeshafi</td><td>I</td><td>M.D.</td><td>MD</td><td>M</td><td>6410 Rockledge Dr...</td><td>null</td><td>Bethesda</td><td>24</td><td>20817</td><td>US</td><td>1.0</td><td>Metropolitan area...</td></tr>\n",
       "<tr><td>1003000126</td><td>Ardalan</td><td>null</td><td>Enkeshafi</td><td>I</td><td>M.D.</td><td>MD</td><td>M</td><td>6410 Rockledge Dr...</td><td>null</td><td>Bethesda</td><td>24</td><td>20817</td><td>US</td><td>1.0</td><td>Metropolitan area...</td></tr>\n",
       "<tr><td>1003000126</td><td>Ardalan</td><td>null</td><td>Enkeshafi</td><td>I</td><td>M.D.</td><td>MD</td><td>M</td><td>6410 Rockledge Dr...</td><td>null</td><td>Bethesda</td><td>24</td><td>20817</td><td>US</td><td>1.0</td><td>Metropolitan area...</td></tr>\n",
       "<tr><td>1003000126</td><td>Ardalan</td><td>null</td><td>Enkeshafi</td><td>I</td><td>M.D.</td><td>MD</td><td>M</td><td>6410 Rockledge Dr...</td><td>null</td><td>Bethesda</td><td>24</td><td>20817</td><td>US</td><td>1.0</td><td>Metropolitan area...</td></tr>\n",
       "<tr><td>1003000126</td><td>Ardalan</td><td>null</td><td>Enkeshafi</td><td>I</td><td>M.D.</td><td>MD</td><td>M</td><td>6410 Rockledge Dr...</td><td>null</td><td>Bethesda</td><td>24</td><td>20817</td><td>US</td><td>1.0</td><td>Metropolitan area...</td></tr>\n",
       "<tr><td>1003000126</td><td>Ardalan</td><td>null</td><td>Enkeshafi</td><td>I</td><td>M.D.</td><td>MD</td><td>M</td><td>6410 Rockledge Dr...</td><td>null</td><td>Bethesda</td><td>24</td><td>20817</td><td>US</td><td>1.0</td><td>Metropolitan area...</td></tr>\n",
       "<tr><td>1003000126</td><td>Ardalan</td><td>null</td><td>Enkeshafi</td><td>I</td><td>M.D.</td><td>MD</td><td>M</td><td>6410 Rockledge Dr...</td><td>null</td><td>Bethesda</td><td>24</td><td>20817</td><td>US</td><td>1.0</td><td>Metropolitan area...</td></tr>\n",
       "<tr><td>1003000126</td><td>Ardalan</td><td>null</td><td>Enkeshafi</td><td>I</td><td>M.D.</td><td>MD</td><td>M</td><td>6410 Rockledge Dr...</td><td>null</td><td>Bethesda</td><td>24</td><td>20817</td><td>US</td><td>1.0</td><td>Metropolitan area...</td></tr>\n",
       "<tr><td>1003000126</td><td>Ardalan</td><td>null</td><td>Enkeshafi</td><td>I</td><td>M.D.</td><td>MD</td><td>M</td><td>6410 Rockledge Dr...</td><td>null</td><td>Bethesda</td><td>24</td><td>20817</td><td>US</td><td>1.0</td><td>Metropolitan area...</td></tr>\n",
       "<tr><td>1003000126</td><td>Ardalan</td><td>null</td><td>Enkeshafi</td><td>I</td><td>M.D.</td><td>MD</td><td>M</td><td>6410 Rockledge Dr...</td><td>null</td><td>Bethesda</td><td>24</td><td>20817</td><td>US</td><td>1.0</td><td>Metropolitan area...</td></tr>\n",
       "<tr><td>1003000126</td><td>Ardalan</td><td>null</td><td>Enkeshafi</td><td>I</td><td>M.D.</td><td>MD</td><td>M</td><td>6410 Rockledge Dr...</td><td>null</td><td>Bethesda</td><td>24</td><td>20817</td><td>US</td><td>1.0</td><td>Metropolitan area...</td></tr>\n",
       "<tr><td>1003000126</td><td>Ardalan</td><td>null</td><td>Enkeshafi</td><td>I</td><td>M.D.</td><td>MD</td><td>M</td><td>6410 Rockledge Dr...</td><td>null</td><td>Bethesda</td><td>24</td><td>20817</td><td>US</td><td>1.0</td><td>Metropolitan area...</td></tr>\n",
       "<tr><td>1003000126</td><td>Ardalan</td><td>null</td><td>Enkeshafi</td><td>I</td><td>M.D.</td><td>MD</td><td>M</td><td>6410 Rockledge Dr...</td><td>null</td><td>Bethesda</td><td>24</td><td>20817</td><td>US</td><td>1.0</td><td>Metropolitan area...</td></tr>\n",
       "<tr><td>1003000126</td><td>Ardalan</td><td>null</td><td>Enkeshafi</td><td>I</td><td>M.D.</td><td>MD</td><td>M</td><td>6410 Rockledge Dr...</td><td>null</td><td>Bethesda</td><td>24</td><td>20817</td><td>US</td><td>1.0</td><td>Metropolitan area...</td></tr>\n",
       "<tr><td>1003000134</td><td>Thomas</td><td>L</td><td>Cibull</td><td>I</td><td>M.D.</td><td>IL</td><td>M</td><td>2650 Ridge Ave</td><td>Evanston Hospital</td><td>Evanston</td><td>17</td><td>60201</td><td>US</td><td>1.0</td><td>Metropolitan area...</td></tr>\n",
       "<tr><td>1003000134</td><td>Thomas</td><td>L</td><td>Cibull</td><td>I</td><td>M.D.</td><td>IL</td><td>M</td><td>2650 Ridge Ave</td><td>Evanston Hospital</td><td>Evanston</td><td>17</td><td>60201</td><td>US</td><td>1.0</td><td>Metropolitan area...</td></tr>\n",
       "<tr><td>1003000134</td><td>Thomas</td><td>L</td><td>Cibull</td><td>I</td><td>M.D.</td><td>IL</td><td>M</td><td>2650 Ridge Ave</td><td>Evanston Hospital</td><td>Evanston</td><td>17</td><td>60201</td><td>US</td><td>1.0</td><td>Metropolitan area...</td></tr>\n",
       "<tr><td>1003000134</td><td>Thomas</td><td>L</td><td>Cibull</td><td>I</td><td>M.D.</td><td>IL</td><td>M</td><td>2650 Ridge Ave</td><td>Evanston Hospital</td><td>Evanston</td><td>17</td><td>60201</td><td>US</td><td>1.0</td><td>Metropolitan area...</td></tr>\n",
       "<tr><td>1003000134</td><td>Thomas</td><td>L</td><td>Cibull</td><td>I</td><td>M.D.</td><td>IL</td><td>M</td><td>2650 Ridge Ave</td><td>Evanston Hospital</td><td>Evanston</td><td>17</td><td>60201</td><td>US</td><td>1.0</td><td>Metropolitan area...</td></tr>\n",
       "</table>\n",
       "only showing top 20 rows\n"
      ],
      "text/plain": [
       "+-----------+-------------------+----------------+------------------------------------+-----------+-------------------------+--------------------------+------+-----------------------+-----------------------+-------------+---------+---------+----------------+--------------------------+--------------------+\n",
       "|Provider ID|Provider First Name|Provider Initial|Provider Last Name/Organisation Name|Entity Type|Qualification/Credentials|Provider State Abbrivation|Gender|Provider Street Adress1|Provider Street Adress2|Provider City|FIPS Code|ZIP Code |Provider Country|RUCA Code of the Provider |    RUCA Description|\n",
       "+-----------+-------------------+----------------+------------------------------------+-----------+-------------------------+--------------------------+------+-----------------------+-----------------------+-------------+---------+---------+----------------+--------------------------+--------------------+\n",
       "| 1003000126|            Ardalan|            null|                           Enkeshafi|          I|                     M.D.|                        MD|     M|   6410 Rockledge Dr...|                   null|     Bethesda|       24|    20817|              US|                       1.0|Metropolitan area...|\n",
       "| 1003000126|            Ardalan|            null|                           Enkeshafi|          I|                     M.D.|                        MD|     M|   6410 Rockledge Dr...|                   null|     Bethesda|       24|    20817|              US|                       1.0|Metropolitan area...|\n",
       "| 1003000126|            Ardalan|            null|                           Enkeshafi|          I|                     M.D.|                        MD|     M|   6410 Rockledge Dr...|                   null|     Bethesda|       24|    20817|              US|                       1.0|Metropolitan area...|\n",
       "| 1003000126|            Ardalan|            null|                           Enkeshafi|          I|                     M.D.|                        MD|     M|   6410 Rockledge Dr...|                   null|     Bethesda|       24|    20817|              US|                       1.0|Metropolitan area...|\n",
       "| 1003000126|            Ardalan|            null|                           Enkeshafi|          I|                     M.D.|                        MD|     M|   6410 Rockledge Dr...|                   null|     Bethesda|       24|    20817|              US|                       1.0|Metropolitan area...|\n",
       "| 1003000126|            Ardalan|            null|                           Enkeshafi|          I|                     M.D.|                        MD|     M|   6410 Rockledge Dr...|                   null|     Bethesda|       24|    20817|              US|                       1.0|Metropolitan area...|\n",
       "| 1003000126|            Ardalan|            null|                           Enkeshafi|          I|                     M.D.|                        MD|     M|   6410 Rockledge Dr...|                   null|     Bethesda|       24|    20817|              US|                       1.0|Metropolitan area...|\n",
       "| 1003000126|            Ardalan|            null|                           Enkeshafi|          I|                     M.D.|                        MD|     M|   6410 Rockledge Dr...|                   null|     Bethesda|       24|    20817|              US|                       1.0|Metropolitan area...|\n",
       "| 1003000126|            Ardalan|            null|                           Enkeshafi|          I|                     M.D.|                        MD|     M|   6410 Rockledge Dr...|                   null|     Bethesda|       24|    20817|              US|                       1.0|Metropolitan area...|\n",
       "| 1003000126|            Ardalan|            null|                           Enkeshafi|          I|                     M.D.|                        MD|     M|   6410 Rockledge Dr...|                   null|     Bethesda|       24|    20817|              US|                       1.0|Metropolitan area...|\n",
       "| 1003000126|            Ardalan|            null|                           Enkeshafi|          I|                     M.D.|                        MD|     M|   6410 Rockledge Dr...|                   null|     Bethesda|       24|    20817|              US|                       1.0|Metropolitan area...|\n",
       "| 1003000126|            Ardalan|            null|                           Enkeshafi|          I|                     M.D.|                        MD|     M|   6410 Rockledge Dr...|                   null|     Bethesda|       24|    20817|              US|                       1.0|Metropolitan area...|\n",
       "| 1003000126|            Ardalan|            null|                           Enkeshafi|          I|                     M.D.|                        MD|     M|   6410 Rockledge Dr...|                   null|     Bethesda|       24|    20817|              US|                       1.0|Metropolitan area...|\n",
       "| 1003000126|            Ardalan|            null|                           Enkeshafi|          I|                     M.D.|                        MD|     M|   6410 Rockledge Dr...|                   null|     Bethesda|       24|    20817|              US|                       1.0|Metropolitan area...|\n",
       "| 1003000126|            Ardalan|            null|                           Enkeshafi|          I|                     M.D.|                        MD|     M|   6410 Rockledge Dr...|                   null|     Bethesda|       24|    20817|              US|                       1.0|Metropolitan area...|\n",
       "| 1003000134|             Thomas|               L|                              Cibull|          I|                     M.D.|                        IL|     M|         2650 Ridge Ave|      Evanston Hospital|     Evanston|       17|    60201|              US|                       1.0|Metropolitan area...|\n",
       "| 1003000134|             Thomas|               L|                              Cibull|          I|                     M.D.|                        IL|     M|         2650 Ridge Ave|      Evanston Hospital|     Evanston|       17|    60201|              US|                       1.0|Metropolitan area...|\n",
       "| 1003000134|             Thomas|               L|                              Cibull|          I|                     M.D.|                        IL|     M|         2650 Ridge Ave|      Evanston Hospital|     Evanston|       17|    60201|              US|                       1.0|Metropolitan area...|\n",
       "| 1003000134|             Thomas|               L|                              Cibull|          I|                     M.D.|                        IL|     M|         2650 Ridge Ave|      Evanston Hospital|     Evanston|       17|    60201|              US|                       1.0|Metropolitan area...|\n",
       "| 1003000134|             Thomas|               L|                              Cibull|          I|                     M.D.|                        IL|     M|         2650 Ridge Ave|      Evanston Hospital|     Evanston|       17|    60201|              US|                       1.0|Metropolitan area...|\n",
       "+-----------+-------------------+----------------+------------------------------------+-----------+-------------------------+--------------------------+------+-----------------------+-----------------------+-------------+---------+---------+----------------+--------------------------+--------------------+\n",
       "only showing top 20 rows"
      ]
     },
     "metadata": {},
     "output_type": "display_data"
    }
   ],
   "source": [
    "display(provider_df)"
   ]
  },
  {
   "cell_type": "code",
   "execution_count": 38,
   "id": "b86b6769",
   "metadata": {},
   "outputs": [
    {
     "name": "stdout",
     "output_type": "stream",
     "text": [
      "root\n",
      " |-- Provider ID: integer (nullable = true)\n",
      " |-- HCPCS_Code: string (nullable = true)\n",
      " |-- HCPCS_Description: string (nullable = true)\n",
      " |-- HCPCS Drug Indicator: string (nullable = true)\n",
      " |-- Place Of Service: string (nullable = true)\n",
      " |-- Total Distinct Beneficiaries: integer (nullable = true)\n",
      " |-- Number of services: double (nullable = true)\n",
      " |-- beneficiary per day: integer (nullable = true)\n",
      " |-- Average Submitted Charge Amount: double (nullable = true)\n",
      " |-- Average Medicare Allowed Amount: double (nullable = true)\n",
      " |-- Average Medicare Payment Amount: double (nullable = true)\n",
      " |-- Average Medicare Standardized Payment: double (nullable = true)\n",
      "\n"
     ]
    }
   ],
   "source": [
    "billing_df.printSchema()"
   ]
  },
  {
   "cell_type": "code",
   "execution_count": 39,
   "id": "0403394c",
   "metadata": {},
   "outputs": [
    {
     "name": "stdout",
     "output_type": "stream",
     "text": [
      "root\n",
      " |-- Provider ID: integer (nullable = true)\n",
      " |-- Provide Type: string (nullable = true)\n",
      " |-- Medicare Participation: string (nullable = true)\n",
      "\n"
     ]
    }
   ],
   "source": [
    "medicare_df.printSchema()"
   ]
  },
  {
   "cell_type": "code",
   "execution_count": 40,
   "id": "22d9d295",
   "metadata": {},
   "outputs": [
    {
     "name": "stdout",
     "output_type": "stream",
     "text": [
      "root\n",
      " |-- Provider ID: integer (nullable = true)\n",
      " |-- Provider First Name: string (nullable = true)\n",
      " |-- Provider Initial: string (nullable = true)\n",
      " |-- Provider Last Name/Organisation Name: string (nullable = true)\n",
      " |-- Entity Type: string (nullable = true)\n",
      " |-- Qualification/Credentials: string (nullable = true)\n",
      " |-- Provider State Abbrivation: string (nullable = true)\n",
      " |-- Gender: string (nullable = true)\n",
      " |-- Provider Street Adress1: string (nullable = true)\n",
      " |-- Provider Street Adress2: string (nullable = true)\n",
      " |-- Provider City: string (nullable = true)\n",
      " |-- FIPS Code: string (nullable = true)\n",
      " |-- ZIP Code : integer (nullable = true)\n",
      " |-- Provider Country: string (nullable = true)\n",
      " |-- RUCA Code of the Provider : double (nullable = true)\n",
      " |-- RUCA Description: string (nullable = true)\n",
      "\n"
     ]
    }
   ],
   "source": [
    "provider_df.printSchema()"
   ]
  }
 ],
 "metadata": {
  "kernelspec": {
   "display_name": "Pyspark 3",
   "language": "python",
   "name": "pyspark3"
  },
  "language_info": {
   "codemirror_mode": {
    "name": "ipython",
    "version": 3
   },
   "file_extension": ".py",
   "mimetype": "text/x-python",
   "name": "python",
   "nbconvert_exporter": "python",
   "pygments_lexer": "ipython3",
   "version": "3.6.12"
  }
 },
 "nbformat": 4,
 "nbformat_minor": 5
}
